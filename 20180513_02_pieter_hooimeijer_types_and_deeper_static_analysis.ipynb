{
 "cells": [
  {
   "cell_type": "markdown",
   "metadata": {},
   "source": [
    "## Types, Deeper Static Analysis and You"
   ]
  },
  {
   "cell_type": "markdown",
   "metadata": {},
   "source": [
    "Good intro to type checking in python: https://pawelmhm.github.io/python/static/typing/type/annotations/2016/01/23/typing-python3.html"
   ]
  },
  {
   "cell_type": "markdown",
   "metadata": {},
   "source": [
    "Type Checking in Parallel:\n",
    "* fire up N processes\n",
    "* distribute the work\n",
    "* share the work (e.g. signatures)"
   ]
  },
  {
   "cell_type": "markdown",
   "metadata": {},
   "source": [
    "This talk was not very relevant to me"
   ]
  },
  {
   "cell_type": "code",
   "execution_count": null,
   "metadata": {
    "collapsed": true
   },
   "outputs": [],
   "source": []
  }
 ],
 "metadata": {
  "kernelspec": {
   "display_name": "Python 3",
   "language": "python",
   "name": "python3"
  },
  "language_info": {
   "codemirror_mode": {
    "name": "ipython",
    "version": 3
   },
   "file_extension": ".py",
   "mimetype": "text/x-python",
   "name": "python",
   "nbconvert_exporter": "python",
   "pygments_lexer": "ipython3",
   "version": "3.6.3"
  }
 },
 "nbformat": 4,
 "nbformat_minor": 2
}
