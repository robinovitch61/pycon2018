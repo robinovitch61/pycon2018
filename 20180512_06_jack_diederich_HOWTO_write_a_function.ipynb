{
 "cells": [
  {
   "cell_type": "markdown",
   "metadata": {},
   "source": [
    "## HOWTO Write a Function"
   ]
  },
  {
   "cell_type": "markdown",
   "metadata": {},
   "source": [
    "Code Reviews:\n",
    "* people read code a lot"
   ]
  },
  {
   "cell_type": "markdown",
   "metadata": {},
   "source": [
    "Function is 5, 10, 20 lines of code. No longer! (Woops..)"
   ]
  },
  {
   "cell_type": "markdown",
   "metadata": {},
   "source": [
    "To read a function, should be min 1 line/min to understand"
   ]
  },
  {
   "cell_type": "code",
   "execution_count": 1,
   "metadata": {
    "collapsed": true
   },
   "outputs": [],
   "source": [
    "def print_things():\n",
    "    print('hi pycon')"
   ]
  },
  {
   "cell_type": "markdown",
   "metadata": {},
   "source": [
    "Always make functions 2 lines or less -- this is dumb advice"
   ]
  },
  {
   "cell_type": "markdown",
   "metadata": {},
   "source": [
    "Function structure:\n",
    "* Input, transform, output"
   ]
  },
  {
   "cell_type": "markdown",
   "metadata": {},
   "source": [
    "Functions should be UNEXCITING -- the cone of boringness, funnel of predictability"
   ]
  },
  {
   "cell_type": "markdown",
   "metadata": {},
   "source": [
    "Input:\n",
    "* this is where the errors should happen\n",
    "* gather all info needed\n",
    "* throw out everything you don't\n",
    "* early errors, good errors -- if info needed not present, abort!\n",
    "* asserts add information"
   ]
  },
  {
   "cell_type": "markdown",
   "metadata": {},
   "source": [
    "Transform:\n",
    "* Exceptions should be exceptional\n",
    "* The reader should be bored -- no surprises (e.g. \"transform_matrix\" transforms a matrix)"
   ]
  },
  {
   "cell_type": "markdown",
   "metadata": {},
   "source": [
    "Output:\n",
    "* pretty print your results\n",
    "* exceptions should be really, really surprising\n",
    "* format information in the way the caller expects it"
   ]
  },
  {
   "cell_type": "markdown",
   "metadata": {},
   "source": [
    "Project Euler -- great practice for programming, bad for practicing inputs"
   ]
  },
  {
   "cell_type": "code",
   "execution_count": 3,
   "metadata": {
    "collapsed": true
   },
   "outputs": [],
   "source": [
    "def parlindrome_names():\n",
    "    users = Users.object.all()\n",
    "    names = [user.name for user in users]\n",
    "    \n",
    "    for name in names:\n",
    "        if is_palindrom(name): # some other function\n",
    "            print(name)"
   ]
  },
  {
   "cell_type": "markdown",
   "metadata": {},
   "source": [
    "Dry run: don't do the thing, but show me what it would have done\n",
    "  * Returning early adds confidence! Return when you can -- if done all work, get out"
   ]
  },
  {
   "cell_type": "markdown",
   "metadata": {},
   "source": [
    "The gun on the mantel -- in code, introduce something, then use it! Don't introduce something and then wait forever, \"building suspense\" is dumb\n",
    "* Right before you're about to use something, declare it. Don't do c-like operations where you define all your variables at the top, then eventually use them)"
   ]
  },
  {
   "cell_type": "markdown",
   "metadata": {},
   "source": [
    "Define things where they are used:"
   ]
  },
  {
   "cell_type": "raw",
   "metadata": {},
   "source": [
    "def call_api(retries=3):... # GREAT\n",
    "vs.\n",
    "def call_api(retries=MAX_RETRIES):... # THIS IS DUMB. NOW YOU HAVE TO LOOK UP MAX_RETRIES"
   ]
  },
  {
   "cell_type": "markdown",
   "metadata": {},
   "source": [
    "Names have meaning:\n",
    "* functions are small -- not a lot of names in your function! Good. Less context required.\n",
    "* good naming is still helpful"
   ]
  },
  {
   "cell_type": "markdown",
   "metadata": {},
   "source": [
    "If the names don't matter: \"raw\", tells user \"this is some data format and you shouldn't care what it is\""
   ]
  },
  {
   "cell_type": "markdown",
   "metadata": {},
   "source": [
    "If you can get away without using a \"temp\" variable, don't use a temp variable!\n",
    "* user = fun(get_from_api(id=3)) is good"
   ]
  },
  {
   "cell_type": "markdown",
   "metadata": {},
   "source": [
    "Meaningless names are good when relevant:\n",
    "* $_$, dummy, \"ignored\" for input"
   ]
  },
  {
   "cell_type": "markdown",
   "metadata": {},
   "source": [
    "Names have meaning:\n",
    "* items --> pair --> left, right; old, new; primary, secondary"
   ]
  },
  {
   "cell_type": "markdown",
   "metadata": {},
   "source": [
    "Five W's:\n",
    "* WHAT is most important for functions"
   ]
  },
  {
   "cell_type": "markdown",
   "metadata": {},
   "source": [
    "If your functions are short, you don't need to extend varnames with tons of underscores -- CONTEXT."
   ]
  },
  {
   "cell_type": "markdown",
   "metadata": {},
   "source": [
    "Return consistently: no return style is wrong if you're consistent"
   ]
  },
  {
   "cell_type": "markdown",
   "metadata": {},
   "source": [
    "Return explicitly: returning None implicitly as something \"Falsey\" is stupid, just return False explicitly"
   ]
  },
  {
   "cell_type": "markdown",
   "metadata": {},
   "source": [
    "Return None, something of the same type (e.g. empty list) or raise an error if function fails"
   ]
  },
  {
   "cell_type": "markdown",
   "metadata": {},
   "source": [
    "Call things in order when you can -- don't define extra functions that creates some new path s possible through the code"
   ]
  },
  {
   "cell_type": "markdown",
   "metadata": {},
   "source": [
    "OK, you learned a new feature -- resist the urge to use it all the time now!"
   ]
  },
  {
   "cell_type": "markdown",
   "metadata": {},
   "source": [
    "\"There's nothing wrong with this code -- it just didn't have to be written\""
   ]
  },
  {
   "cell_type": "markdown",
   "metadata": {},
   "source": [
    "Making the linter happy is effort, sometimes useful\n",
    "* \"3 people can maintain a linter if 2 of them are dead\""
   ]
  },
  {
   "cell_type": "markdown",
   "metadata": {},
   "source": [
    "Type annotations are ok...he's not a fan"
   ]
  },
  {
   "cell_type": "markdown",
   "metadata": {},
   "source": []
  }
 ],
 "metadata": {
  "kernelspec": {
   "display_name": "Python 3",
   "language": "python",
   "name": "python3"
  },
  "language_info": {
   "codemirror_mode": {
    "name": "ipython",
    "version": 3
   },
   "file_extension": ".py",
   "mimetype": "text/x-python",
   "name": "python",
   "nbconvert_exporter": "python",
   "pygments_lexer": "ipython3",
   "version": "3.6.3"
  }
 },
 "nbformat": 4,
 "nbformat_minor": 2
}
