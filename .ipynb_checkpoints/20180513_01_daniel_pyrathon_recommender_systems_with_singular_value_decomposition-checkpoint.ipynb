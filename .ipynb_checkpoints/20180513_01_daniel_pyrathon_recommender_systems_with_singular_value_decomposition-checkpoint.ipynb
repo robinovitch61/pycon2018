{
 "cells": [
  {
   "cell_type": "markdown",
   "metadata": {},
   "source": [
    "## Recommender Systems"
   ]
  },
  {
   "cell_type": "markdown",
   "metadata": {},
   "source": [
    "Collaborative Filtering:\n",
    "* Users\n",
    "  * Actors that \"rate\" products\n",
    "* Ratings\n",
    "  * Numbers indicating how much users like a product\n",
    "* Products\n",
    "  * Items rated by users\n",
    "  * e.g. Movies"
   ]
  },
  {
   "cell_type": "markdown",
   "metadata": {},
   "source": [
    "Collab Filtering: analyze past user behaviour and predict what users like based on similarity to others"
   ]
  },
  {
   "cell_type": "markdown",
   "metadata": {},
   "source": [
    "SVD: method of collaborative filtering\n",
    "  * netflix prize won with SVD\n",
    "  * creates \"latent features\" for every user and movie in db\n",
    "    * features are metadata that we associate with users and products (e.g. age, region, gender, release date, director, duration)\n",
    "    * learning algorithms determine weight/importance of these features\n",
    "    * there is usually a set of features that is not directly observable -- possibly a combination of base features -- \"latent features\"\n",
    "    "
   ]
  },
  {
   "cell_type": "markdown",
   "metadata": {},
   "source": [
    "SVD decomposes features into only the most important ones (we define the number of important features to be extracted)\n",
    "  * The more latent features, the more info you extract but the more computation\n",
    "  * Compare users to other users and movies to other movies by comparing the similarities between their latent-feature vectors"
   ]
  },
  {
   "cell_type": "markdown",
   "metadata": {},
   "source": [
    "Library for training SVD: Surprise"
   ]
  },
  {
   "cell_type": "markdown",
   "metadata": {},
   "source": [
    "OpenSource movie rating dataset: MovieLens"
   ]
  },
  {
   "cell_type": "markdown",
   "metadata": {},
   "source": [
    "Once trained, SVD contains both user and movie matrices, both of which contain all the latent features"
   ]
  },
  {
   "cell_type": "markdown",
   "metadata": {},
   "source": [
    "Compare similarities of movies to movies (e.g. cosine test) and see how similar movies are"
   ]
  },
  {
   "cell_type": "markdown",
   "metadata": {},
   "source": [
    "github.com/PirosB3/PyConUS2018"
   ]
  },
  {
   "cell_type": "markdown",
   "metadata": {},
   "source": []
  }
 ],
 "metadata": {
  "kernelspec": {
   "display_name": "Python 3",
   "language": "python",
   "name": "python3"
  },
  "language_info": {
   "codemirror_mode": {
    "name": "ipython",
    "version": 3
   },
   "file_extension": ".py",
   "mimetype": "text/x-python",
   "name": "python",
   "nbconvert_exporter": "python",
   "pygments_lexer": "ipython3",
   "version": "3.6.3"
  }
 },
 "nbformat": 4,
 "nbformat_minor": 2
}
