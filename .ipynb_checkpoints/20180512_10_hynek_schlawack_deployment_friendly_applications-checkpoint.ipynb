{
 "cells": [
  {
   "cell_type": "markdown",
   "metadata": {},
   "source": [
    "## Deployment Friendly Applications"
   ]
  },
  {
   "cell_type": "markdown",
   "metadata": {},
   "source": [
    "Convincing us to stop bad habits: sending logs to wrong places, wrong app structure, etc."
   ]
  },
  {
   "cell_type": "markdown",
   "metadata": {},
   "source": [
    "Increase connectivity between apps\n",
    "* Outsource complexity that's not an inherent part of the value of the app"
   ]
  },
  {
   "cell_type": "markdown",
   "metadata": {},
   "source": [
    "Should look the same on your laptop and any huge cluster"
   ]
  },
  {
   "cell_type": "markdown",
   "metadata": {},
   "source": [
    "In 5 years, you will be on a different infrastructure (almost guaranteed)"
   ]
  },
  {
   "cell_type": "markdown",
   "metadata": {},
   "source": [
    "Page with all links, concepts and slides here: https://hynek.me/talks/deploy-friendly/"
   ]
  },
  {
   "cell_type": "markdown",
   "metadata": {},
   "source": [
    "App starts by a shell script that is checked in with the rest of the app\n",
    "* exec: replaces shell process with own process to send and receive signals\n",
    "* Ariel's \"run_app.sh\" is a great example of this"
   ]
  },
  {
   "cell_type": "markdown",
   "metadata": {},
   "source": [
    "run_app.sh, exposes 127.0.0.1:8000 (e.g.), logs go to stdout"
   ]
  },
  {
   "cell_type": "markdown",
   "metadata": {},
   "source": [
    "Exposition -- listening on localhost only useful when:\n",
    "* you want to communicate over localhost\n",
    "* when you have a proxy on it, e.g. nginx"
   ]
  },
  {
   "cell_type": "markdown",
   "metadata": {},
   "source": [
    "Environment variables are basically universal\n",
    "* set HOST, PORT, LOG_LEVEL variables\n",
    "* don't set passwords, tokens, etc. as environment variables\n",
    "  * this is platform dependant, e.g. docker secrets, google cloud KMS --> see talk by Laura Kentro? in 2016"
   ]
  },
  {
   "cell_type": "markdown",
   "metadata": {},
   "source": [
    "He likes to encode credentials as URLs, allows changing more than one thing at once (e.g. both credentials and host)"
   ]
  },
  {
   "cell_type": "markdown",
   "metadata": {},
   "source": [
    "NGINX: also for load balancing"
   ]
  },
  {
   "cell_type": "markdown",
   "metadata": {},
   "source": [
    "\"Even if you deploy with a git pull on production like an animal...\""
   ]
  },
  {
   "cell_type": "markdown",
   "metadata": {},
   "source": []
  }
 ],
 "metadata": {
  "kernelspec": {
   "display_name": "Python 3",
   "language": "python",
   "name": "python3"
  },
  "language_info": {
   "codemirror_mode": {
    "name": "ipython",
    "version": 3
   },
   "file_extension": ".py",
   "mimetype": "text/x-python",
   "name": "python",
   "nbconvert_exporter": "python",
   "pygments_lexer": "ipython3",
   "version": "3.6.3"
  }
 },
 "nbformat": 4,
 "nbformat_minor": 2
}
