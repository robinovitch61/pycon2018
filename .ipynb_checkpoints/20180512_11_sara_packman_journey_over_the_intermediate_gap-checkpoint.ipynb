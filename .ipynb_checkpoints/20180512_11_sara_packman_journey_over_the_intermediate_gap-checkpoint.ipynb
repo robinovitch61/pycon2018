{
 "cells": [
  {
   "cell_type": "markdown",
   "metadata": {},
   "source": [
    "## The Journey Over the Intermediate Gap"
   ]
  },
  {
   "cell_type": "markdown",
   "metadata": {},
   "source": [
    "* step over the threshold"
   ]
  },
  {
   "cell_type": "markdown",
   "metadata": {},
   "source": [
    "* find mentors"
   ]
  },
  {
   "cell_type": "markdown",
   "metadata": {},
   "source": [
    "* work on teams"
   ]
  },
  {
   "cell_type": "markdown",
   "metadata": {},
   "source": [
    "* learn your libraries"
   ]
  },
  {
   "cell_type": "markdown",
   "metadata": {},
   "source": [
    "* get to know your tooling\n",
    "  * editorz, linters, debuggers and REPLs"
   ]
  },
  {
   "cell_type": "markdown",
   "metadata": {},
   "source": [
    "2 ways to edit code:\n",
    "1. IDE (integrated dev environment)\n",
    "2. text editor"
   ]
  },
  {
   "cell_type": "markdown",
   "metadata": {},
   "source": [
    "* study up\n",
    "  * pick books and moocs that match your learning style\n",
    "  * if you learn by doing, do books that have examples\n",
    "  * go at your own pace, but don't go too slow! Always ok to return to resources later when you get more advanced"
   ]
  },
  {
   "cell_type": "markdown",
   "metadata": {},
   "source": [
    "* what do i learn:\n",
    "  * git\n",
    "  * testing\n",
    "  * command line and shell navigation\n",
    "  * environment management tools like pipenv and conda"
   ]
  },
  {
   "cell_type": "markdown",
   "metadata": {},
   "source": [
    "\"little by little, one travels far...\"\n",
    "  * don't have to learn everything all at once"
   ]
  },
  {
   "cell_type": "markdown",
   "metadata": {},
   "source": [
    "revealed the end of Moana (dangit)"
   ]
  },
  {
   "cell_type": "markdown",
   "metadata": {
    "collapsed": true
   },
   "source": []
  }
 ],
 "metadata": {
  "kernelspec": {
   "display_name": "Python 3",
   "language": "python",
   "name": "python3"
  },
  "language_info": {
   "codemirror_mode": {
    "name": "ipython",
    "version": 3
   },
   "file_extension": ".py",
   "mimetype": "text/x-python",
   "name": "python",
   "nbconvert_exporter": "python",
   "pygments_lexer": "ipython3",
   "version": "3.6.3"
  }
 },
 "nbformat": 4,
 "nbformat_minor": 2
}
