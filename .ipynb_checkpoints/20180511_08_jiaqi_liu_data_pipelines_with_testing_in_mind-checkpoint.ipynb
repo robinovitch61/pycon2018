{
 "cells": [
  {
   "cell_type": "markdown",
   "metadata": {},
   "source": [
    "## Data Pipelines with Testing in Mind"
   ]
  },
  {
   "cell_type": "markdown",
   "metadata": {},
   "source": [
    "prettyprinter module is cool"
   ]
  },
  {
   "cell_type": "markdown",
   "metadata": {},
   "source": [
    "batch: periodic process of data in bulk"
   ]
  },
  {
   "cell_type": "markdown",
   "metadata": {},
   "source": [
    "stream: high throughput, low latency data"
   ]
  },
  {
   "cell_type": "markdown",
   "metadata": {},
   "source": [
    "other airflows: luigi, pachyderm (containerized), google dataflow"
   ]
  },
  {
   "cell_type": "markdown",
   "metadata": {},
   "source": [
    "problems:\n",
    "* batch job never scheduled, too long\n",
    "* data malformed or corrupt\n",
    "* data lost\n",
    "* stream backed-up, data lost\n",
    "* non-deterministic models"
   ]
  },
  {
   "cell_type": "markdown",
   "metadata": {},
   "source": [
    "can't just look at \"data health\" -- must also look at accuracy"
   ]
  },
  {
   "cell_type": "markdown",
   "metadata": {},
   "source": [
    "data pipelines should be interpretable:\n",
    "* \"why did the model predict what it did\"\n",
    "* allows for debugging and auditing different models\n",
    "* identify and prevent bias introduction into models"
   ]
  },
  {
   "cell_type": "markdown",
   "metadata": {},
   "source": [
    "data pipelines should be observable:\n",
    "* devops equivalent of interpretability\n",
    "* cindy sridharan blogpost on medium (monitoring-and-observability)\n",
    "* observability: world of all possible failures (testing, monitoring or both)\n",
    "* you know when it fails and HOW it fails"
   ]
  },
  {
   "cell_type": "markdown",
   "metadata": {},
   "source": [
    "desirable: \"mystery free production system\""
   ]
  },
  {
   "cell_type": "markdown",
   "metadata": {},
   "source": [
    "features:\n",
    "* well defined schemas:\n",
    "  * define dict schema that has colname:coltype\n",
    "  * define possible values for each col if applicable\n",
    "  * protobuffers are another way of doing this\n",
    "* provide metadata about pipeline:\n",
    "  * track the base metrics of what you want to gauge to get sanity checks for your pipeline\n",
    "  * test in \"dry run mode\": run data before you make it access a production database\n",
    "* testing:\n",
    "  * test pyramid\n",
    "  * types:\n",
    "    * unit test:\n",
    "      * definitely have them\n",
    "    * functional test:\n",
    "      * for deterministic system -- what i/o supposed to look like\n",
    "    * regression test:\n",
    "      * for non-det systems, champion challenger model method\n",
    "    * system test:\n",
    "      * system tests:\n",
    "        * black box testing, measures health of whole system, continuous"
   ]
  },
  {
   "cell_type": "markdown",
   "metadata": {},
   "source": [
    "Monitoring tools:\n",
    "  * prometheus for time series and kubernetes cluster monitoring dashboard, grafana, nagios for system health checks\n",
    "  "
   ]
  },
  {
   "cell_type": "markdown",
   "metadata": {},
   "source": []
  }
 ],
 "metadata": {
  "kernelspec": {
   "display_name": "Python 3",
   "language": "python",
   "name": "python3"
  },
  "language_info": {
   "codemirror_mode": {
    "name": "ipython",
    "version": 3
   },
   "file_extension": ".py",
   "mimetype": "text/x-python",
   "name": "python",
   "nbconvert_exporter": "python",
   "pygments_lexer": "ipython3",
   "version": "3.6.3"
  }
 },
 "nbformat": 4,
 "nbformat_minor": 2
}
