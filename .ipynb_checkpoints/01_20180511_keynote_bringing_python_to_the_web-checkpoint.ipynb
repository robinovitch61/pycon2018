{
 "cells": [
  {
   "cell_type": "markdown",
   "metadata": {},
   "source": [
    "## Bringing Python to the Web"
   ]
  },
  {
   "cell_type": "markdown",
   "metadata": {},
   "source": [
    "webassembly, tool for bringing python to the web\n",
    "* compiled version of your script that can run on the browser\n",
    "* watch talk, birth and death of javascript\n",
    "* ran windows 3, netscape within firefox\n",
    "* james balcolanu, demo of 3d basement in browser\n",
    "* virtual cpu in browser"
   ]
  },
  {
   "cell_type": "markdown",
   "metadata": {},
   "source": [
    "pypyjs, good demo but now defunct"
   ]
  },
  {
   "cell_type": "markdown",
   "metadata": {},
   "source": [
    "javascript comes along with the web, but in time python could replace it\n",
    "* web is javascript AND the possibility of other things\n",
    "* uncharted territory, bringing python to the web"
   ]
  },
  {
   "cell_type": "markdown",
   "metadata": {},
   "source": [
    "\"python is the second best language for everything\""
   ]
  },
  {
   "cell_type": "markdown",
   "metadata": {},
   "source": [
    "m"
   ]
  },
  {
   "cell_type": "markdown",
   "metadata": {},
   "source": [
    "m"
   ]
  },
  {
   "cell_type": "markdown",
   "metadata": {},
   "source": [
    "m"
   ]
  }
 ],
 "metadata": {
  "kernelspec": {
   "display_name": "Python 3",
   "language": "python",
   "name": "python3"
  },
  "language_info": {
   "codemirror_mode": {
    "name": "ipython",
    "version": 3
   },
   "file_extension": ".py",
   "mimetype": "text/x-python",
   "name": "python",
   "nbconvert_exporter": "python",
   "pygments_lexer": "ipython3",
   "version": "3.6.3"
  }
 },
 "nbformat": 4,
 "nbformat_minor": 2
}
