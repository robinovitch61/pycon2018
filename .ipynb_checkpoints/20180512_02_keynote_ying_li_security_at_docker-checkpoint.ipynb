{
 "cells": [
  {
   "cell_type": "markdown",
   "metadata": {},
   "source": [
    "## Security at Docker"
   ]
  },
  {
   "cell_type": "markdown",
   "metadata": {},
   "source": [
    "* Takes first aid, practices good personal security practices -- for the common good"
   ]
  },
  {
   "cell_type": "markdown",
   "metadata": {},
   "source": [
    "* Worthwhile to reduce likelihood of any single app being compromised"
   ]
  },
  {
   "cell_type": "markdown",
   "metadata": {},
   "source": [
    "\"You don't have to be a medical professional to be a parent\" -- don't have to be a security expert to practice good security\n",
    "* Just follow a standard checklist"
   ]
  },
  {
   "cell_type": "markdown",
   "metadata": {},
   "source": [
    "Basic security checklist:\n",
    "* Keep up with system updates (equifax was an apache patch that went un-updated!)\n",
    "* Ensure your authentication is good (SSL, etc.)\n",
    "* Limit data to the scope at which it's needed\n",
    "* Anonymize data\n",
    "* Delete old data that is no longer needed\n",
    "* Communicate through secure channels (TLS)\n",
    "* Test for security along with other automated tests\n",
    "  * Bandit, python taint static analysis tools"
   ]
  },
  {
   "cell_type": "markdown",
   "metadata": {},
   "source": [
    "Cross Site Request Forgery (CSRF): attacker tricks user into performing an action (e.g. transferring money) on a website and gains their information\n",
    "* OWASP site documents ways to protect\n",
    "* Use a framework/library that uses CSRF protection and invoke it!"
   ]
  },
  {
   "cell_type": "markdown",
   "metadata": {},
   "source": [
    "Everyone should put at least some effort into following best security practices for their respective roles\n",
    "* Security tools are getting easier and easier -- shouldn't even be so much effort, especially as tools develop"
   ]
  },
  {
   "cell_type": "markdown",
   "metadata": {},
   "source": []
  }
 ],
 "metadata": {
  "kernelspec": {
   "display_name": "Python 3",
   "language": "python",
   "name": "python3"
  },
  "language_info": {
   "codemirror_mode": {
    "name": "ipython",
    "version": 3
   },
   "file_extension": ".py",
   "mimetype": "text/x-python",
   "name": "python",
   "nbconvert_exporter": "python",
   "pygments_lexer": "ipython3",
   "version": "3.6.3"
  }
 },
 "nbformat": 4,
 "nbformat_minor": 2
}
