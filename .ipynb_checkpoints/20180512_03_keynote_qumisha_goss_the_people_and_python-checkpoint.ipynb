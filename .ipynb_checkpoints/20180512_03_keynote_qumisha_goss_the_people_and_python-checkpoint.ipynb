{
 "cells": [
  {
   "cell_type": "markdown",
   "metadata": {},
   "source": [
    "## The People and Python"
   ]
  },
  {
   "cell_type": "markdown",
   "metadata": {},
   "source": [
    "Tynker.com for kids learning python\n",
    "* progress kids from this as they get better"
   ]
  },
  {
   "cell_type": "markdown",
   "metadata": {},
   "source": [
    "Python for kids book"
   ]
  },
  {
   "cell_type": "markdown",
   "metadata": {},
   "source": [
    "Microbits\n"
   ]
  },
  {
   "cell_type": "markdown",
   "metadata": {},
   "source": [
    "MinecraftPi\n",
    "* Code in Minecraft with IDLE"
   ]
  },
  {
   "cell_type": "markdown",
   "metadata": {},
   "source": [
    "Robot Cars w Raspberry Pi"
   ]
  },
  {
   "cell_type": "markdown",
   "metadata": {},
   "source": [
    "How to retain employees:\n",
    "* Respect\n",
    "* Engage\n",
    "* Value"
   ]
  },
  {
   "cell_type": "markdown",
   "metadata": {},
   "source": [
    "Kids Issues:\n",
    "* Poverty\n",
    "* Illiteracy\n",
    "* Hunger\n",
    "* Crime and Violence"
   ]
  },
  {
   "cell_type": "markdown",
   "metadata": {},
   "source": [
    "Noone has ever become less great by helping someone else be great"
   ]
  },
  {
   "cell_type": "markdown",
   "metadata": {},
   "source": [
    "qgoss@detroitpubliclibrary.com"
   ]
  },
  {
   "cell_type": "code",
   "execution_count": null,
   "metadata": {
    "collapsed": true
   },
   "outputs": [],
   "source": []
  }
 ],
 "metadata": {
  "kernelspec": {
   "display_name": "Python 3",
   "language": "python",
   "name": "python3"
  },
  "language_info": {
   "codemirror_mode": {
    "name": "ipython",
    "version": 3
   },
   "file_extension": ".py",
   "mimetype": "text/x-python",
   "name": "python",
   "nbconvert_exporter": "python",
   "pygments_lexer": "ipython3",
   "version": "3.6.3"
  }
 },
 "nbformat": 4,
 "nbformat_minor": 2
}
