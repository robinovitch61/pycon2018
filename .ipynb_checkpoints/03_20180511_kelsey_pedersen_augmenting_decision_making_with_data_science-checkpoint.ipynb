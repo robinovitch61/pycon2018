{
 "cells": [
  {
   "cell_type": "markdown",
   "metadata": {},
   "source": [
    "## Augmenting Decision Making w Data Science"
   ]
  },
  {
   "cell_type": "markdown",
   "metadata": {},
   "source": [
    "* 72% worry about automation, 51% gun control, 55% about affordable healthcare"
   ]
  },
  {
   "cell_type": "markdown",
   "metadata": {},
   "source": [
    "* Fast and slow thinking:\n",
    "  * Fast: automatic, based off feelings, intuition, prior learning\n",
    "    * Based off what we're processing at any given time\n",
    "    * No real intention or effort -- just happens\n",
    "    * 95% of decisions happen in this system\n",
    "    * Gut feelings\n",
    "  * Slow:\n",
    "    * Effortful and deliberate, analytical and computational\n",
    "    * E.g. self control\n",
    "    * Computations, logic"
   ]
  },
  {
   "cell_type": "markdown",
   "metadata": {},
   "source": [
    "* Gut feelings are unpredictable -- not LTI :)\n",
    "  * Radiologists come to contradictory answers up to 20% of the time looking at the same xray twice"
   ]
  },
  {
   "cell_type": "markdown",
   "metadata": {
    "collapsed": true
   },
   "source": [
    "* Human judgements often inconsistent, biased, and based on information overload"
   ]
  },
  {
   "cell_type": "markdown",
   "metadata": {
    "collapsed": true
   },
   "source": [
    "* Remove options people express distaste for\n",
    "* Show people fewer options -- use A/B tests to find the sweet spot\n",
    "* Use match scores\n",
    "* Stylists at stitch fix actually override all computer recs at times. Sometimes selection assigned to another stylist based on algorithm recommendation.\n",
    "* Stylists are scored based on aggregate customer feedback over time. This is used to indicate where additional training is required."
   ]
  },
  {
   "cell_type": "markdown",
   "metadata": {
    "collapsed": true
   },
   "source": [
    "Summary: data and human feedback loop is sweet"
   ]
  },
  {
   "cell_type": "markdown",
   "metadata": {},
   "source": []
  }
 ],
 "metadata": {
  "kernelspec": {
   "display_name": "Python 3",
   "language": "python",
   "name": "python3"
  },
  "language_info": {
   "codemirror_mode": {
    "name": "ipython",
    "version": 3
   },
   "file_extension": ".py",
   "mimetype": "text/x-python",
   "name": "python",
   "nbconvert_exporter": "python",
   "pygments_lexer": "ipython3",
   "version": "3.6.3"
  }
 },
 "nbformat": 4,
 "nbformat_minor": 2
}
