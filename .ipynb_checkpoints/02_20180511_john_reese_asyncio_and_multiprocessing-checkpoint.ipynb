{
 "cells": [
  {
   "cell_type": "markdown",
   "metadata": {},
   "source": [
    "## AsyncIO and Multiprocessing"
   ]
  },
  {
   "cell_type": "markdown",
   "metadata": {},
   "source": [
    "GIL:\n",
    "* Global interpreter lock\n",
    "* Prevents multithreading on a vm\n",
    "* No concurrent memory access"
   ]
  },
  {
   "cell_type": "markdown",
   "metadata": {},
   "source": [
    "Look in to thread pool"
   ]
  },
  {
   "cell_type": "markdown",
   "metadata": {},
   "source": [
    "Single process limits number of cores being used with single binary"
   ]
  },
  {
   "cell_type": "markdown",
   "metadata": {},
   "source": [
    "2.7 --> 3.5, 45% memory savings, 20% runtime reduction\n",
    "* Fighting the good fight talk tomorrow"
   ]
  },
  {
   "cell_type": "markdown",
   "metadata": {},
   "source": [
    "Technically correct solution: sharding\n",
    "* scale number of workers as dataset grows\n",
    "* complicated deployments, communication overhead, need service to manage workers (spark)"
   ]
  },
  {
   "cell_type": "markdown",
   "metadata": {},
   "source": [
    "Simpler solution: multiprocessing\n",
    "* Scales with CPU cores, auto IPC for sending data back and forth\n",
    "* nice api's\n",
    "* spread execution across all your cores\n",
    "* limits:\n",
    "    * one task per process\n",
    "    * beware forking, pickling"
   ]
  },
  {
   "cell_type": "markdown",
   "metadata": {},
   "source": [
    "AsyncIO:\n",
    "* based on futures, faster than threads, massive I/O concurrency\n",
    "* async def...return await...\n",
    "* get futures back from function calls, await asyncio.gather waits until futures returned\n",
    "* benefits:\n",
    "  * massive i/o concurrency\n",
    "* drawbacks:\n",
    "  * processing still limitied by GIL\n",
    "  * timeouts and queue length"
   ]
  },
  {
   "cell_type": "markdown",
   "metadata": {},
   "source": [
    "Combining Multiprocessing and AsyncIO:\n",
    "* Multiprocessing primitives\n",
    "* Num processes * num concurrent requests = capability\n",
    "* Coroutine? must bootstrap...\n",
    "  * example code in slides."
   ]
  },
  {
   "cell_type": "markdown",
   "metadata": {},
   "source": [
    "Create Pool class that auto-instantiates child processes, helper functikon to queue individual work item, etc."
   ]
  },
  {
   "cell_type": "markdown",
   "metadata": {},
   "source": [
    "Optimizations:\n",
    "* multiple queues\n",
    "* combine tasks into batches\n",
    "* use spawned processes instead of forked processes -- no copy of current state, memory efficient"
   ]
  },
  {
   "cell_type": "markdown",
   "metadata": {},
   "source": [
    "Considerations:\n",
    "* minimize pickling\n",
    "* prechunk work items\n",
    "* agg results in the child\n",
    "* use map/reduce"
   ]
  },
  {
   "cell_type": "markdown",
   "metadata": {},
   "source": [
    "pip install aiomultiprocess -- it's open sourced"
   ]
  },
  {
   "cell_type": "markdown",
   "metadata": {},
   "source": [
    "lxc linux containers at the beginning, most barebones implementation of docker like tools"
   ]
  },
  {
   "cell_type": "markdown",
   "metadata": {},
   "source": []
  },
  {
   "cell_type": "markdown",
   "metadata": {},
   "source": []
  },
  {
   "cell_type": "markdown",
   "metadata": {},
   "source": []
  }
 ],
 "metadata": {
  "kernelspec": {
   "display_name": "Python 3",
   "language": "python",
   "name": "python3"
  },
  "language_info": {
   "codemirror_mode": {
    "name": "ipython",
    "version": 3
   },
   "file_extension": ".py",
   "mimetype": "text/x-python",
   "name": "python",
   "nbconvert_exporter": "python",
   "pygments_lexer": "ipython3",
   "version": "3.6.3"
  }
 },
 "nbformat": 4,
 "nbformat_minor": 2
}
