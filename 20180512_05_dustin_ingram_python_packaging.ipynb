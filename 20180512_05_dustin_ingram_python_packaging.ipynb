{
 "cells": [
  {
   "cell_type": "markdown",
   "metadata": {},
   "source": [
    "## Python Packaging"
   ]
  },
  {
   "cell_type": "markdown",
   "metadata": {},
   "source": [
    "* Dustin is maintainer of pypi"
   ]
  },
  {
   "cell_type": "markdown",
   "metadata": {},
   "source": [
    "* There are a lot of talks out there with python packaging (\"that's been done\")\n",
    "  * Links on the slides"
   ]
  },
  {
   "cell_type": "markdown",
   "metadata": {},
   "source": [
    "* Fundamental problem: \"how do i get this code to my users?\"\n",
    "  * How do I find python code?\n",
    "    * First index: The Vaults of Parnassus"
   ]
  },
  {
   "cell_type": "markdown",
   "metadata": {},
   "source": [
    "setup.py is just a python script! -- build tool, replaces make files, etc."
   ]
  },
  {
   "cell_type": "markdown",
   "metadata": {},
   "source": [
    "sdist: source distribution, but sometimes build takes too long\n",
    "* solutions: build distributions -- prebuilt, just drop in place (\"bdist\")"
   ]
  },
  {
   "cell_type": "markdown",
   "metadata": {},
   "source": [
    "pypi: package index just for python. Gives centralized, official place to host python software\n",
    "* pronounced PY-P-I, not pypy"
   ]
  },
  {
   "cell_type": "markdown",
   "metadata": {},
   "source": [
    "setuptools -- monkeypatched distutils, allows dependancy specifications"
   ]
  },
  {
   "cell_type": "markdown",
   "metadata": {},
   "source": [
    "easy_install: make dependencies easier to install when paired with setuptools\n",
    "* problems: can't uninstall, messes with sys.path\n",
    "* solution: pyinstall --> becomes pip (recursive backronym, pip install packages)\n"
   ]
  },
  {
   "cell_type": "markdown",
   "metadata": {},
   "source": [
    "egg distribution: zip file with metadata, python byte code -- prepared for your system"
   ]
  },
  {
   "cell_type": "markdown",
   "metadata": {},
   "source": [
    "cheeseshop: from monty python sketch, pypi didn't have any python in it a t first"
   ]
  },
  {
   "cell_type": "markdown",
   "metadata": {},
   "source": [
    "pip:\n",
    "* ignores eggs\n",
    "* requirements.txt specify dependancies for an application, allows for semi-reproducible environments\n",
    "* problem: pypi install is getting slow (crawls many domains which might not be performant)\n",
    "* problem: users have to blindly trust 3rd part domains\n",
    "* pep 438?: pip hosts distributions\n",
    "* problem: need built distribtuions, but doesn't do eggs...\n",
    "* solution: WHEEL\n",
    "  * from wheel of cheese"
   ]
  },
  {
   "cell_type": "markdown",
   "metadata": {},
   "source": [
    "twine:\n",
    "* used to upload packages to pypi"
   ]
  },
  {
   "cell_type": "markdown",
   "metadata": {},
   "source": [
    "* pypi now has 130k+ packages"
   ]
  },
  {
   "cell_type": "markdown",
   "metadata": {},
   "source": [
    "* pypi is now 15 years old...no tests, can't run locally, etc.\n",
    "  * warehouse -- they rewrote pypi from scratch\n",
    "    * http everywhere, best practices, tests, --became pypi last month"
   ]
  },
  {
   "cell_type": "markdown",
   "metadata": {},
   "source": [
    "Current problems with pypi (warehouse):\n",
    "* use python packagin guide\n",
    "* use sample project on github (pypa)\n",
    "* packaging is a little too easy now...a spammer can do it"
   ]
  },
  {
   "cell_type": "markdown",
   "metadata": {},
   "source": [
    "conda: python-agnostic packaging tool, use stuff that isn't python"
   ]
  },
  {
   "cell_type": "markdown",
   "metadata": {},
   "source": [
    "reproducible environments:\n",
    "* pipfile, pipfile.lock -- check it out on github"
   ]
  },
  {
   "cell_type": "markdown",
   "metadata": {},
   "source": [
    "problem: setup.py executes arbitrary code -- \"why pypi doesn't know your projects dependencies\" blog post"
   ]
  },
  {
   "cell_type": "markdown",
   "metadata": {},
   "source": [
    "setuptools is old and bulky"
   ]
  },
  {
   "cell_type": "markdown",
   "metadata": {},
   "source": [
    "pep 517,518: define build system format, reqs\n",
    "  * pyproject.toml will supercede setuptools and distutils"
   ]
  },
  {
   "cell_type": "markdown",
   "metadata": {},
   "source": [
    "to contribute:\n",
    "* do the sprints! mon-thurs"
   ]
  },
  {
   "cell_type": "markdown",
   "metadata": {},
   "source": []
  }
 ],
 "metadata": {
  "kernelspec": {
   "display_name": "Python 3",
   "language": "python",
   "name": "python3"
  },
  "language_info": {
   "codemirror_mode": {
    "name": "ipython",
    "version": 3
   },
   "file_extension": ".py",
   "mimetype": "text/x-python",
   "name": "python",
   "nbconvert_exporter": "python",
   "pygments_lexer": "ipython3",
   "version": "3.6.3"
  }
 },
 "nbformat": 4,
 "nbformat_minor": 2
}
