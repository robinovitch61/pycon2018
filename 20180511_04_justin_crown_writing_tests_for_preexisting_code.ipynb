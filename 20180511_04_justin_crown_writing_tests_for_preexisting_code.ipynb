{
 "cells": [
  {
   "cell_type": "markdown",
   "metadata": {},
   "source": [
    "## Writing Tests for Preexisting Code"
   ]
  },
  {
   "cell_type": "markdown",
   "metadata": {},
   "source": [
    "Legacy Code:\n",
    "* no tests\n",
    "* no docs\n",
    "* hard to read"
   ]
  },
  {
   "cell_type": "markdown",
   "metadata": {},
   "source": [
    "Why write tests?\n",
    "* It will save time in the end\n",
    "* Code that is used is important, so make it not legacy code\n",
    "* Do you even know if it's breaking? You probably should..."
   ]
  },
  {
   "cell_type": "markdown",
   "metadata": {},
   "source": [
    "First rule: just test what you touch\n",
    "* Write a test that asserts current behaviour\n",
    "* Write a test that asserts new behaviour\n",
    "* Do code\n",
    "* Tests pass\n",
    "* Profit"
   ]
  },
  {
   "cell_type": "markdown",
   "metadata": {},
   "source": [
    "First test is hardest test\n",
    "* Find the tools that work for you\n",
    "* Use current tools\n",
    "* Create reusable test scaffolding"
   ]
  },
  {
   "cell_type": "markdown",
   "metadata": {},
   "source": [
    "Testrunner: pytest\n",
    "* Using pytest-django for django integration\n",
    "* use pytest-socket to ensure it doesn't connect to anything\n",
    "* pytest -cov: code coverage reports\n",
    "* factory_boy: avoid boilerplate"
   ]
  },
  {
   "cell_type": "markdown",
   "metadata": {},
   "source": [
    "Unit test: \n",
    "* cover smallest piece of code possible\n",
    "* runs fast\n",
    "* no file i/o, no db ideally"
   ]
  },
  {
   "cell_type": "markdown",
   "metadata": {},
   "source": [
    "Pytest tells you what lines changed between tests passing and failing"
   ]
  },
  {
   "cell_type": "markdown",
   "metadata": {},
   "source": [
    "Slides have all the code"
   ]
  },
  {
   "cell_type": "markdown",
   "metadata": {},
   "source": [
    "Trying to test something, can't because it tries to connefct to something! Workarounds:\n",
    "* Subclassing: replicate the class without the actual connection to something\n",
    "* Mocking: create decorator that calls mock class around actual view to get around connection\n",
    "* Change the code to make it more testable (e.g. pass smtp in with default None)"
   ]
  },
  {
   "cell_type": "markdown",
   "metadata": {},
   "source": [
    "Cool docstring format: https://thomas-cokelaer.info/tutorials/sphinx/docstring_python.html\n",
    "* parameters using :param <name>: <description>\n",
    "* type of the parameters :type <name>: <description>\n",
    "* returns using :returns: <description>\n",
    "* examples (doctest)\n",
    "* seealso using .. seealso:: text\n",
    "* notes using .. note:: text\n",
    "* warning using .. warning:: text\n",
    "* todo .. todo:: text"
   ]
  },
  {
   "cell_type": "markdown",
   "metadata": {},
   "source": [
    "Refactor code to make it easier and cleaner -- but you might break something"
   ]
  },
  {
   "cell_type": "markdown",
   "metadata": {},
   "source": [
    "Create legacy -- introduce CI/CD\n",
    "* push code should run tests\n",
    "* builds fail if tests fail\n",
    "* builds fail if test coverage drops"
   ]
  },
  {
   "cell_type": "markdown",
   "metadata": {},
   "source": []
  },
  {
   "cell_type": "markdown",
   "metadata": {},
   "source": []
  }
 ],
 "metadata": {
  "kernelspec": {
   "display_name": "Python 3",
   "language": "python",
   "name": "python3"
  },
  "language_info": {
   "codemirror_mode": {
    "name": "ipython",
    "version": 3
   },
   "file_extension": ".py",
   "mimetype": "text/x-python",
   "name": "python",
   "nbconvert_exporter": "python",
   "pygments_lexer": "ipython3",
   "version": "3.6.3"
  }
 },
 "nbformat": 4,
 "nbformat_minor": 2
}
