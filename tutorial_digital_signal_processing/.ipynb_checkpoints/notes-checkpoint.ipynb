{
 "cells": [
  {
   "cell_type": "markdown",
   "metadata": {},
   "source": [
    "## Notes"
   ]
  },
  {
   "cell_type": "markdown",
   "metadata": {},
   "source": [
    "Lecture slides: https://docs.google.com/presentation/d/e/2PACX-1vSBDcuVO5-zRovw9wlegdSdEEuNG_fYxBtdKyMiqTskdTKJrbl6qcqj04gwWiVdHGlgVv1LBLd-uLW_/pub?slide=id.g1b100a4094_0_1"
   ]
  },
  {
   "cell_type": "markdown",
   "metadata": {},
   "source": [
    "EMAIL PREVIOUS TUTORIAL ABOUT HTML SLIDES"
   ]
  },
  {
   "cell_type": "markdown",
   "metadata": {},
   "source": [
    "Download ThinkDSP, ThinkBayes, Allen Downey is a boss"
   ]
  },
  {
   "cell_type": "markdown",
   "metadata": {},
   "source": [
    "In thinkdsp.py:\n",
    "* Signal: continuous function\n",
    "* Wave: array of discrete samples\n",
    "* Spectrum: discrete Fourier transform of a wave"
   ]
  },
  {
   "cell_type": "markdown",
   "metadata": {},
   "source": [
    "Bird Song Hero -- match spectrograms with bird noises"
   ]
  },
  {
   "cell_type": "markdown",
   "metadata": {},
   "source": [
    "Convolution: I'm adding up many shifted, scaled copies of the input"
   ]
  },
  {
   "cell_type": "markdown",
   "metadata": {
    "collapsed": true
   },
   "source": [
    "Good idea: apply low pass filter before sampling a recording so that they don't get aliased (still bad to drop high frequencies, but worse if they get aliased)"
   ]
  },
  {
   "cell_type": "code",
   "execution_count": null,
   "metadata": {
    "collapsed": true
   },
   "outputs": [],
   "source": []
  }
 ],
 "metadata": {
  "kernelspec": {
   "display_name": "Python 3",
   "language": "python",
   "name": "python3"
  },
  "language_info": {
   "codemirror_mode": {
    "name": "ipython",
    "version": 3
   },
   "file_extension": ".py",
   "mimetype": "text/x-python",
   "name": "python",
   "nbconvert_exporter": "python",
   "pygments_lexer": "ipython3",
   "version": "3.6.3"
  }
 },
 "nbformat": 4,
 "nbformat_minor": 2
}
