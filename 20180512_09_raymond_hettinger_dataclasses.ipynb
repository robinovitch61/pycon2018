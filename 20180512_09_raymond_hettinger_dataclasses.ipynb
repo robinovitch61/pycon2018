{
 "cells": [
  {
   "cell_type": "markdown",
   "metadata": {},
   "source": [
    "## Dataclasses"
   ]
  },
  {
   "cell_type": "markdown",
   "metadata": {},
   "source": [
    "Code generator: makes code for you if you give it specs\n",
    "  * must understand under-the-hood operations\n",
    "  * reduces wordiness, eliminates boilerplate"
   ]
  },
  {
   "cell_type": "markdown",
   "metadata": {},
   "source": [
    "What are they for?\n",
    "* Make mutable data holder (named tuples) OR\n",
    "* Makes boiler plate code for you, simplifying writing classes\n",
    "* Data --> holds data + classes --> writes classes for you"
   ]
  },
  {
   "cell_type": "markdown",
   "metadata": {},
   "source": [
    "named tuples have verbose option -- shows what code is written for you"
   ]
  },
  {
   "cell_type": "markdown",
   "metadata": {},
   "source": [
    "History:\n",
    "* dicts, tuples, hand-written classes\n",
    "* named tuples and types.SimpleNamespace\n",
    "* ORMs (Django, SQLAlchemy, PeeWee)\n",
    "* traitlets\n",
    "* type annotations with 3.6+\n",
    "* attrs module --> inspired dataclasses"
   ]
  },
  {
   "cell_type": "markdown",
   "metadata": {},
   "source": [
    "Wraps classes and auto-populates a number of methods that could be contrued as boilerplate"
   ]
  },
  {
   "cell_type": "markdown",
   "metadata": {},
   "source": []
  }
 ],
 "metadata": {
  "kernelspec": {
   "display_name": "Python 3",
   "language": "python",
   "name": "python3"
  },
  "language_info": {
   "codemirror_mode": {
    "name": "ipython",
    "version": 3
   },
   "file_extension": ".py",
   "mimetype": "text/x-python",
   "name": "python",
   "nbconvert_exporter": "python",
   "pygments_lexer": "ipython3",
   "version": "3.6.3"
  }
 },
 "nbformat": 4,
 "nbformat_minor": 2
}
