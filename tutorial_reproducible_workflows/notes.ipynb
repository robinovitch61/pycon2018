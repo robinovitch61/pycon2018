{
 "cells": [
  {
   "cell_type": "markdown",
   "metadata": {},
   "source": [
    "## Notes"
   ]
  },
  {
   "cell_type": "markdown",
   "metadata": {},
   "source": [
    "Reproducibility: data + code gives same results  \n",
    "Replicable: own data + code gives similar results  \n",
    "Robustness: similar data + similar code, possibly different tools gives similar results"
   ]
  },
  {
   "cell_type": "markdown",
   "metadata": {},
   "source": [
    "Goal of tutorial: get to level 1, reproducibility"
   ]
  },
  {
   "cell_type": "markdown",
   "metadata": {},
   "source": [
    "Good reasons for reproducibility:\n",
    "* Convention (left or right side driving)\n",
    "* Complete chain of custody (provenance): you know what version of data + code produced results\n",
    "* Put all code and data in repos -- able to reproduce everything (would be great, eh?) -- can lose code w/o disaster\n",
    "* Transfer projects to others\n",
    "* Come back from a break on a project without hassles\n",
    "* Speed up progress\n",
    "* Gain awesome skills\n",
    "* Contribute to open source projects\n",
    "* \"Bus Factor\": how many people would have to die for the project to stop?"
   ]
  },
  {
   "cell_type": "markdown",
   "metadata": {},
   "source": [
    "NOTE: Bamboo from Atlassian\n",
    "* auto testing during pull requests"
   ]
  },
  {
   "cell_type": "markdown",
   "metadata": {},
   "source": [
    "Project plan:\n",
    "* What is MVP, final product?\n",
    "* Who will use my data and code -- what is license, how complete are docs?\n",
    "* Who will maintain, for how long?"
   ]
  },
  {
   "cell_type": "markdown",
   "metadata": {},
   "source": [
    "Open source is good. Do it.\n",
    "* Public repo != open source -- requires license as well\n",
    "* Always add a license (choosealicense.com)\n",
    "  * Permissive (MIT, BSD, Apache): more freedoms, credit authors\n",
    "  * Copyleft: requires deriviative works be also under the license of original\n",
    "  * Licenses are not always forward/backwards compatible"
   ]
  },
  {
   "cell_type": "markdown",
   "metadata": {},
   "source": [
    "Good project layout provides structural integrity, everything has a place\n",
    "* This tutorial uses cookiecutter"
   ]
  },
  {
   "cell_type": "markdown",
   "metadata": {},
   "source": [
    "Check out Go for concurrency, Julia for performance"
   ]
  },
  {
   "cell_type": "markdown",
   "metadata": {},
   "source": [
    "**NEVER** edit raw data (don't even version control it because it will never change)\n",
    "* Put it in a repo in a database\n",
    "* Github only allows ~5GB of data, not good for versioning data\n",
    "* Gitannex, datalad good for versioning data, figshare to share data"
   ]
  },
  {
   "cell_type": "markdown",
   "metadata": {},
   "source": [
    "Ignite: puts data from spark in memory  \n",
    "Dask: lightweight spark cluster from Anaconda team\n",
    "* Use for things slightly too large for local memory, but don't want to go all the way to spark"
   ]
  },
  {
   "cell_type": "raw",
   "metadata": {},
   "source": [
    "importlib in __init__s for easy import from packages with weird names (e.g. starting with 01, 02)"
   ]
  },
  {
   "cell_type": "code",
   "execution_count": 2,
   "metadata": {
    "scrolled": true
   },
   "outputs": [
    {
     "name": "stdout",
     "output_type": "stream",
     "text": [
      "stringtest\n"
     ]
    }
   ],
   "source": [
    "VARNAME = 'test'\n",
    "print(f'string{VARNAME}') # automatically formats in 3.6+"
   ]
  },
  {
   "cell_type": "markdown",
   "metadata": {},
   "source": [
    "import recipy -- AMAZING"
   ]
  },
  {
   "cell_type": "code",
   "execution_count": 3,
   "metadata": {},
   "outputs": [
    {
     "name": "stdout",
     "output_type": "stream",
     "text": [
      "This notebook was last run on: 09/05/18 at: 12:01:12\n"
     ]
    }
   ],
   "source": [
    "import time\n",
    "print('This notebook was last run on: ' + time.strftime('%d/%m/%y') + ' at: ' + time.strftime('%H:%M:%S'))"
   ]
  },
  {
   "cell_type": "raw",
   "metadata": {},
   "source": [
    "💬 Discussion:\n",
    "- What measures do you take to ensure your analysis are: reporoducible, replicable or robust? It is ok to not have any measures in place\n",
    "Detailed logging+\n",
    "Thoughts and prayers?  +++++++\n",
    "CI system using Jenkins that may or may not be catching things (Bamboo, Travis) +\n",
    "Save scripts or Jupyter notebooks. Ensure that input files are properly managed, named, etc. Utilize static, cite-able inputs when doing research. +\n",
    "Database functions\n",
    "Documenting what was done and how so my team can reproduce the work+\n",
    "Apache Airflow or Luigi to do job orchestration\n",
    "Version Control+\n",
    "Scripts version controlled via Git\n",
    "Virtual Environments and Git\n",
    "Docker, Jupyterhub\n",
    "mattf: GitHub, variety of tests, checklists, documentation\n",
    "Scott K: git + git flow & bitbucket/github, some docker, pipelining framework (Snakemake, Luigi), conda environments, Jupyter Notebooks\n",
    "Pooja M: bitbucket, git checkin for every feature, merge to develop branch and finally merge to master branch, no dockers at all\n",
    "\n",
    "- Have you encountered any barriers to reproducibility? Of what sort? Add any examples\n",
    "Not yet but in past have had issues with proper memory mgmt\n",
    "Envionments changing outside of the software development++ m\n",
    "\n",
    "different folders based on functionality\n",
    "project template packageprs\n",
    "Proh\n",
    "common commands in one folder\n",
    "Seperating models, views, and controllers, Static folder, init file, config file+\n",
    "Default Django+\n",
    "Ideally I would create a Python envi\n",
    "usually code/ and data/, but I'm getting better ideas above :)\n",
    "\n",
    "\n",
    "Separate Data, code, Tests, results directories - separate subdirectories for results for comparison purposes"
   ]
  },
  {
   "cell_type": "code",
   "execution_count": null,
   "metadata": {
    "collapsed": true
   },
   "outputs": [],
   "source": []
  }
 ],
 "metadata": {
  "kernelspec": {
   "display_name": "Python 3",
   "language": "python",
   "name": "python3"
  },
  "language_info": {
   "codemirror_mode": {
    "name": "ipython",
    "version": 3
   },
   "file_extension": ".py",
   "mimetype": "text/x-python",
   "name": "python",
   "nbconvert_exporter": "python",
   "pygments_lexer": "ipython3",
   "version": "3.6.3"
  }
 },
 "nbformat": 4,
 "nbformat_minor": 2
}
